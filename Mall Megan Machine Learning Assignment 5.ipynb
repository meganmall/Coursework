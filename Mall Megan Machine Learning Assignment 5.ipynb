{
 "cells": [
  {
   "cell_type": "markdown",
   "id": "28311b78",
   "metadata": {},
   "source": [
    "# Assignment 5"
   ]
  },
  {
   "cell_type": "code",
   "execution_count": 1,
   "id": "123027b9",
   "metadata": {},
   "outputs": [],
   "source": [
    "#imports\n",
    "import numpy as np\n",
    "import pandas as pd\n",
    "import matplotlib.pyplot as plt\n",
    "import seaborn as sns\n",
    "import tensorflow as tf\n",
    "\n",
    "from sklearn import datasets\n",
    "from sklearn.neural_network import MLPRegressor\n",
    "from sklearn.model_selection import train_test_split\n",
    "from tensorflow import keras\n",
    "from tensorflow.keras import layers\n",
    "from sklearn.preprocessing import StandardScaler\n",
    "\n",
    "import keras\n",
    "from keras.models import Sequential\n",
    "from keras.layers import Dense\n",
    "from sklearn.metrics import mean_squared_error\n",
    "from sklearn.model_selection import GridSearchCV\n",
    "from scikeras.wrappers import KerasRegressor"
   ]
  },
  {
   "cell_type": "markdown",
   "id": "34f791f2",
   "metadata": {},
   "source": [
    "## Part 1: Implement a Perceptron\n",
    "\n",
    "Given the diabetes dataset you used during Assignment 2, implement an\n",
    "MLP Regressor."
   ]
  },
  {
   "cell_type": "code",
   "execution_count": 2,
   "id": "623b7a7a",
   "metadata": {
    "scrolled": true
   },
   "outputs": [
    {
     "name": "stdout",
     "output_type": "stream",
     "text": [
      "<class 'pandas.core.frame.DataFrame'>\n",
      "RangeIndex: 442 entries, 0 to 441\n",
      "Data columns (total 10 columns):\n",
      " #   Column  Non-Null Count  Dtype  \n",
      "---  ------  --------------  -----  \n",
      " 0   age     442 non-null    float64\n",
      " 1   sex     442 non-null    float64\n",
      " 2   bmi     442 non-null    float64\n",
      " 3   bp      442 non-null    float64\n",
      " 4   s1      442 non-null    float64\n",
      " 5   s2      442 non-null    float64\n",
      " 6   s3      442 non-null    float64\n",
      " 7   s4      442 non-null    float64\n",
      " 8   s5      442 non-null    float64\n",
      " 9   s6      442 non-null    float64\n",
      "dtypes: float64(10)\n",
      "memory usage: 34.7 KB\n"
     ]
    }
   ],
   "source": [
    "# Assignment 2 used the sklearn diabetes dataset:\n",
    "diabetes = datasets.load_diabetes()\n",
    "#load into padas df:\n",
    "features = pd.DataFrame(diabetes.data, columns = diabetes.feature_names)\n",
    "target = diabetes.target\n",
    "features.info()"
   ]
  },
  {
   "cell_type": "code",
   "execution_count": 3,
   "id": "f8f86261",
   "metadata": {},
   "outputs": [
    {
     "data": {
      "text/html": [
       "<div>\n",
       "<style scoped>\n",
       "    .dataframe tbody tr th:only-of-type {\n",
       "        vertical-align: middle;\n",
       "    }\n",
       "\n",
       "    .dataframe tbody tr th {\n",
       "        vertical-align: top;\n",
       "    }\n",
       "\n",
       "    .dataframe thead th {\n",
       "        text-align: right;\n",
       "    }\n",
       "</style>\n",
       "<table border=\"1\" class=\"dataframe\">\n",
       "  <thead>\n",
       "    <tr style=\"text-align: right;\">\n",
       "      <th></th>\n",
       "      <th>age</th>\n",
       "      <th>sex</th>\n",
       "      <th>bmi</th>\n",
       "      <th>bp</th>\n",
       "      <th>s1</th>\n",
       "      <th>s2</th>\n",
       "      <th>s3</th>\n",
       "      <th>s4</th>\n",
       "      <th>s5</th>\n",
       "      <th>s6</th>\n",
       "    </tr>\n",
       "  </thead>\n",
       "  <tbody>\n",
       "    <tr>\n",
       "      <th>416</th>\n",
       "      <td>-0.027310</td>\n",
       "      <td>-0.044642</td>\n",
       "      <td>0.080019</td>\n",
       "      <td>0.098751</td>\n",
       "      <td>-0.002945</td>\n",
       "      <td>0.018101</td>\n",
       "      <td>-0.017629</td>\n",
       "      <td>0.003312</td>\n",
       "      <td>-0.029526</td>\n",
       "      <td>0.036201</td>\n",
       "    </tr>\n",
       "    <tr>\n",
       "      <th>141</th>\n",
       "      <td>-0.027310</td>\n",
       "      <td>-0.044642</td>\n",
       "      <td>0.047685</td>\n",
       "      <td>-0.046985</td>\n",
       "      <td>0.034206</td>\n",
       "      <td>0.057245</td>\n",
       "      <td>-0.080217</td>\n",
       "      <td>0.130252</td>\n",
       "      <td>0.045067</td>\n",
       "      <td>0.131470</td>\n",
       "    </tr>\n",
       "    <tr>\n",
       "      <th>127</th>\n",
       "      <td>0.034443</td>\n",
       "      <td>0.050680</td>\n",
       "      <td>-0.001895</td>\n",
       "      <td>-0.012556</td>\n",
       "      <td>0.038334</td>\n",
       "      <td>0.013717</td>\n",
       "      <td>0.078093</td>\n",
       "      <td>-0.039493</td>\n",
       "      <td>0.004548</td>\n",
       "      <td>-0.096346</td>\n",
       "    </tr>\n",
       "    <tr>\n",
       "      <th>120</th>\n",
       "      <td>-0.049105</td>\n",
       "      <td>-0.044642</td>\n",
       "      <td>0.004572</td>\n",
       "      <td>0.011544</td>\n",
       "      <td>-0.037344</td>\n",
       "      <td>-0.018537</td>\n",
       "      <td>-0.017629</td>\n",
       "      <td>-0.002592</td>\n",
       "      <td>-0.039809</td>\n",
       "      <td>-0.021788</td>\n",
       "    </tr>\n",
       "    <tr>\n",
       "      <th>313</th>\n",
       "      <td>0.059871</td>\n",
       "      <td>0.050680</td>\n",
       "      <td>0.053074</td>\n",
       "      <td>0.052858</td>\n",
       "      <td>0.032830</td>\n",
       "      <td>0.019667</td>\n",
       "      <td>-0.010266</td>\n",
       "      <td>0.034309</td>\n",
       "      <td>0.055203</td>\n",
       "      <td>-0.001078</td>\n",
       "    </tr>\n",
       "  </tbody>\n",
       "</table>\n",
       "</div>"
      ],
      "text/plain": [
       "          age       sex       bmi        bp        s1        s2        s3  \\\n",
       "416 -0.027310 -0.044642  0.080019  0.098751 -0.002945  0.018101 -0.017629   \n",
       "141 -0.027310 -0.044642  0.047685 -0.046985  0.034206  0.057245 -0.080217   \n",
       "127  0.034443  0.050680 -0.001895 -0.012556  0.038334  0.013717  0.078093   \n",
       "120 -0.049105 -0.044642  0.004572  0.011544 -0.037344 -0.018537 -0.017629   \n",
       "313  0.059871  0.050680  0.053074  0.052858  0.032830  0.019667 -0.010266   \n",
       "\n",
       "           s4        s5        s6  \n",
       "416  0.003312 -0.029526  0.036201  \n",
       "141  0.130252  0.045067  0.131470  \n",
       "127 -0.039493  0.004548 -0.096346  \n",
       "120 -0.002592 -0.039809 -0.021788  \n",
       "313  0.034309  0.055203 -0.001078  "
      ]
     },
     "execution_count": 3,
     "metadata": {},
     "output_type": "execute_result"
    }
   ],
   "source": [
    "#split the data:\n",
    "Xtrain, Xtest, ytrain, ytest = train_test_split(features, target, random_state=8, test_size = 0.2)\n",
    "Xtrain.head()\n",
    "#data does not need to be scaled "
   ]
  },
  {
   "cell_type": "code",
   "execution_count": 4,
   "id": "caedcbdf",
   "metadata": {},
   "outputs": [
    {
     "data": {
      "text/plain": [
       "0.20972290728939047"
      ]
     },
     "execution_count": 4,
     "metadata": {},
     "output_type": "execute_result"
    }
   ],
   "source": [
    "#Train MLP Regressor:\n",
    "diabetesReg = MLPRegressor(hidden_layer_sizes=(300,200,20), random_state=8, max_iter=5000).fit(Xtrain,ytrain)\n",
    "\n",
    "pred1 = diabetesReg.predict(Xtest)\n",
    "score1 = diabetesReg.score(Xtest,ytest)\n",
    "\n",
    "score1"
   ]
  },
  {
   "cell_type": "markdown",
   "id": "9622c48f",
   "metadata": {},
   "source": [
    "## Part 2: Implement a Keras Classifier\n",
    "\n",
    "Given the prepared Titanic dataset from Assignment 3, implement a Keras\n",
    "sequential classifier with relu activation functions."
   ]
  },
  {
   "cell_type": "code",
   "execution_count": 5,
   "id": "96f4e7a1",
   "metadata": {},
   "outputs": [
    {
     "name": "stdout",
     "output_type": "stream",
     "text": [
      "<class 'pandas.core.frame.DataFrame'>\n",
      "RangeIndex: 891 entries, 0 to 890\n",
      "Data columns (total 12 columns):\n",
      " #   Column       Non-Null Count  Dtype  \n",
      "---  ------       --------------  -----  \n",
      " 0   PassengerId  891 non-null    int64  \n",
      " 1   Survived     891 non-null    int64  \n",
      " 2   Pclass       891 non-null    int64  \n",
      " 3   Name         891 non-null    object \n",
      " 4   Sex          891 non-null    object \n",
      " 5   Age          714 non-null    float64\n",
      " 6   SibSp        891 non-null    int64  \n",
      " 7   Parch        891 non-null    int64  \n",
      " 8   Ticket       891 non-null    object \n",
      " 9   Fare         891 non-null    float64\n",
      " 10  Cabin        204 non-null    object \n",
      " 11  Embarked     889 non-null    object \n",
      "dtypes: float64(2), int64(5), object(5)\n",
      "memory usage: 83.7+ KB\n"
     ]
    }
   ],
   "source": [
    "# Assignment 3 used the provided titanic dataset\n",
    "titanic = pd.read_csv('train.csv')\n",
    "titanic.info()"
   ]
  },
  {
   "cell_type": "code",
   "execution_count": 6,
   "id": "4364ed71",
   "metadata": {},
   "outputs": [
    {
     "data": {
      "text/plain": [
       "PassengerId    0\n",
       "Survived       0\n",
       "Pclass         0\n",
       "Name           0\n",
       "Sex            0\n",
       "Age            0\n",
       "SibSp          0\n",
       "Parch          0\n",
       "Ticket         0\n",
       "Fare           0\n",
       "Embarked       0\n",
       "dtype: int64"
      ]
     },
     "execution_count": 6,
     "metadata": {},
     "output_type": "execute_result"
    }
   ],
   "source": [
    "# Clean the data as we did in assignment 3:\n",
    "titanic = titanic.drop('Cabin', axis = 1)\n",
    "\n",
    "def impute_age(cols):\n",
    "    Age=cols[0]\n",
    "    Pclass=cols[1]\n",
    "    if pd.isnull(Age):\n",
    "        if Pclass==1:\n",
    "            return 37\n",
    "        elif Pclass==2:\n",
    "            return 29\n",
    "        else:\n",
    "            return 24\n",
    "    else:\n",
    "        return Age\n",
    "titanic['Age'] = titanic[['Age','Pclass']].apply(impute_age, axis=1)\n",
    "\n",
    "titanic.dropna(axis=0, inplace=True)\n",
    "titanic.isna().sum()"
   ]
  },
  {
   "cell_type": "code",
   "execution_count": 7,
   "id": "0c63030a",
   "metadata": {},
   "outputs": [
    {
     "data": {
      "text/html": [
       "<div>\n",
       "<style scoped>\n",
       "    .dataframe tbody tr th:only-of-type {\n",
       "        vertical-align: middle;\n",
       "    }\n",
       "\n",
       "    .dataframe tbody tr th {\n",
       "        vertical-align: top;\n",
       "    }\n",
       "\n",
       "    .dataframe thead th {\n",
       "        text-align: right;\n",
       "    }\n",
       "</style>\n",
       "<table border=\"1\" class=\"dataframe\">\n",
       "  <thead>\n",
       "    <tr style=\"text-align: right;\">\n",
       "      <th></th>\n",
       "      <th>Survived</th>\n",
       "      <th>Pclass</th>\n",
       "      <th>Age</th>\n",
       "      <th>SibSp</th>\n",
       "      <th>Parch</th>\n",
       "      <th>Fare</th>\n",
       "      <th>Sex_female</th>\n",
       "      <th>Sex_male</th>\n",
       "      <th>Embarked_C</th>\n",
       "      <th>Embarked_Q</th>\n",
       "      <th>Embarked_S</th>\n",
       "    </tr>\n",
       "  </thead>\n",
       "  <tbody>\n",
       "    <tr>\n",
       "      <th>0</th>\n",
       "      <td>0</td>\n",
       "      <td>3</td>\n",
       "      <td>22.0</td>\n",
       "      <td>1</td>\n",
       "      <td>0</td>\n",
       "      <td>7.2500</td>\n",
       "      <td>0</td>\n",
       "      <td>1</td>\n",
       "      <td>0</td>\n",
       "      <td>0</td>\n",
       "      <td>1</td>\n",
       "    </tr>\n",
       "    <tr>\n",
       "      <th>1</th>\n",
       "      <td>1</td>\n",
       "      <td>1</td>\n",
       "      <td>38.0</td>\n",
       "      <td>1</td>\n",
       "      <td>0</td>\n",
       "      <td>71.2833</td>\n",
       "      <td>1</td>\n",
       "      <td>0</td>\n",
       "      <td>1</td>\n",
       "      <td>0</td>\n",
       "      <td>0</td>\n",
       "    </tr>\n",
       "    <tr>\n",
       "      <th>2</th>\n",
       "      <td>1</td>\n",
       "      <td>3</td>\n",
       "      <td>26.0</td>\n",
       "      <td>0</td>\n",
       "      <td>0</td>\n",
       "      <td>7.9250</td>\n",
       "      <td>1</td>\n",
       "      <td>0</td>\n",
       "      <td>0</td>\n",
       "      <td>0</td>\n",
       "      <td>1</td>\n",
       "    </tr>\n",
       "    <tr>\n",
       "      <th>3</th>\n",
       "      <td>1</td>\n",
       "      <td>1</td>\n",
       "      <td>35.0</td>\n",
       "      <td>1</td>\n",
       "      <td>0</td>\n",
       "      <td>53.1000</td>\n",
       "      <td>1</td>\n",
       "      <td>0</td>\n",
       "      <td>0</td>\n",
       "      <td>0</td>\n",
       "      <td>1</td>\n",
       "    </tr>\n",
       "    <tr>\n",
       "      <th>4</th>\n",
       "      <td>0</td>\n",
       "      <td>3</td>\n",
       "      <td>35.0</td>\n",
       "      <td>0</td>\n",
       "      <td>0</td>\n",
       "      <td>8.0500</td>\n",
       "      <td>0</td>\n",
       "      <td>1</td>\n",
       "      <td>0</td>\n",
       "      <td>0</td>\n",
       "      <td>1</td>\n",
       "    </tr>\n",
       "  </tbody>\n",
       "</table>\n",
       "</div>"
      ],
      "text/plain": [
       "   Survived  Pclass   Age  SibSp  Parch     Fare  Sex_female  Sex_male  \\\n",
       "0         0       3  22.0      1      0   7.2500           0         1   \n",
       "1         1       1  38.0      1      0  71.2833           1         0   \n",
       "2         1       3  26.0      0      0   7.9250           1         0   \n",
       "3         1       1  35.0      1      0  53.1000           1         0   \n",
       "4         0       3  35.0      0      0   8.0500           0         1   \n",
       "\n",
       "   Embarked_C  Embarked_Q  Embarked_S  \n",
       "0           0           0           1  \n",
       "1           1           0           0  \n",
       "2           0           0           1  \n",
       "3           0           0           1  \n",
       "4           0           0           1  "
      ]
     },
     "execution_count": 7,
     "metadata": {},
     "output_type": "execute_result"
    }
   ],
   "source": [
    "# dataset has categorical values:\n",
    "titanic = pd.get_dummies(titanic, columns = ['Sex', 'Embarked'])\n",
    "titanic = titanic.drop(['Name', 'Ticket', 'PassengerId'], axis = 1)\n",
    "\n",
    "titanic.head()"
   ]
  },
  {
   "cell_type": "code",
   "execution_count": 8,
   "id": "da3b9fbf",
   "metadata": {},
   "outputs": [
    {
     "data": {
      "text/plain": [
       "(666, 10)"
      ]
     },
     "execution_count": 8,
     "metadata": {},
     "output_type": "execute_result"
    }
   ],
   "source": [
    "# train test split:\n",
    "feature2 = titanic.drop('Survived', axis = 1)\n",
    "target2 = titanic['Survived'].copy()\n",
    "Xtrain2, Xtest2, ytrain2, ytest2 = train_test_split(feature2, target2, random_state = 8)\n",
    "Xtrain2.shape"
   ]
  },
  {
   "cell_type": "code",
   "execution_count": 9,
   "id": "9eeaad3a",
   "metadata": {},
   "outputs": [],
   "source": [
    "#build sequential classifier model:\n",
    "titanicKSC = Sequential()\n",
    "titanicKSC.add(Dense(300, activation='relu', input_dim=10))\n",
    "titanicKSC.add(Dense(100, activation='relu'))\n",
    "titanicKSC.add(Dense(2, activation='softmax'))\n",
    "\n",
    "#compile\n",
    "titanicKSC.compile(loss='sparse_categorical_crossentropy', optimizer='adam',metrics=['accuracy'])"
   ]
  },
  {
   "cell_type": "code",
   "execution_count": 10,
   "id": "3fed9bae",
   "metadata": {},
   "outputs": [
    {
     "name": "stdout",
     "output_type": "stream",
     "text": [
      "Epoch 1/30\n",
      "21/21 [==============================] - 1s 2ms/step - loss: 0.8789 - accuracy: 0.6802\n",
      "Epoch 2/30\n",
      "21/21 [==============================] - 0s 3ms/step - loss: 0.7126 - accuracy: 0.6862\n",
      "Epoch 3/30\n",
      "21/21 [==============================] - 0s 3ms/step - loss: 0.6526 - accuracy: 0.7087\n",
      "Epoch 4/30\n",
      "21/21 [==============================] - 0s 3ms/step - loss: 0.5460 - accuracy: 0.7553\n",
      "Epoch 5/30\n",
      "21/21 [==============================] - 0s 3ms/step - loss: 0.4942 - accuracy: 0.7718\n",
      "Epoch 6/30\n",
      "21/21 [==============================] - 0s 3ms/step - loss: 0.5161 - accuracy: 0.7628\n",
      "Epoch 7/30\n",
      "21/21 [==============================] - 0s 3ms/step - loss: 0.5521 - accuracy: 0.7598\n",
      "Epoch 8/30\n",
      "21/21 [==============================] - 0s 3ms/step - loss: 0.5144 - accuracy: 0.7628\n",
      "Epoch 9/30\n",
      "21/21 [==============================] - 0s 2ms/step - loss: 0.4456 - accuracy: 0.7973\n",
      "Epoch 10/30\n",
      "21/21 [==============================] - 0s 3ms/step - loss: 0.5274 - accuracy: 0.7778\n",
      "Epoch 11/30\n",
      "21/21 [==============================] - 0s 3ms/step - loss: 0.5327 - accuracy: 0.7658\n",
      "Epoch 12/30\n",
      "21/21 [==============================] - 0s 3ms/step - loss: 0.6140 - accuracy: 0.7538\n",
      "Epoch 13/30\n",
      "21/21 [==============================] - 0s 2ms/step - loss: 0.5975 - accuracy: 0.7553\n",
      "Epoch 14/30\n",
      "21/21 [==============================] - 0s 3ms/step - loss: 0.5013 - accuracy: 0.7988\n",
      "Epoch 15/30\n",
      "21/21 [==============================] - 0s 3ms/step - loss: 0.4850 - accuracy: 0.7793\n",
      "Epoch 16/30\n",
      "21/21 [==============================] - 0s 3ms/step - loss: 0.4782 - accuracy: 0.7988\n",
      "Epoch 17/30\n",
      "21/21 [==============================] - 0s 3ms/step - loss: 0.4756 - accuracy: 0.8138\n",
      "Epoch 18/30\n",
      "21/21 [==============================] - 0s 3ms/step - loss: 0.5008 - accuracy: 0.7973\n",
      "Epoch 19/30\n",
      "21/21 [==============================] - 0s 3ms/step - loss: 0.4198 - accuracy: 0.8108\n",
      "Epoch 20/30\n",
      "21/21 [==============================] - 0s 3ms/step - loss: 0.4294 - accuracy: 0.8168\n",
      "Epoch 21/30\n",
      "21/21 [==============================] - 0s 3ms/step - loss: 0.4678 - accuracy: 0.8063\n",
      "Epoch 22/30\n",
      "21/21 [==============================] - 0s 3ms/step - loss: 0.5594 - accuracy: 0.7673\n",
      "Epoch 23/30\n",
      "21/21 [==============================] - 0s 3ms/step - loss: 0.4583 - accuracy: 0.8228\n",
      "Epoch 24/30\n",
      "21/21 [==============================] - 0s 3ms/step - loss: 0.4377 - accuracy: 0.8168\n",
      "Epoch 25/30\n",
      "21/21 [==============================] - 0s 3ms/step - loss: 0.4850 - accuracy: 0.8078\n",
      "Epoch 26/30\n",
      "21/21 [==============================] - 0s 3ms/step - loss: 0.4794 - accuracy: 0.8003\n",
      "Epoch 27/30\n",
      "21/21 [==============================] - 0s 3ms/step - loss: 0.4637 - accuracy: 0.8093\n",
      "Epoch 28/30\n",
      "21/21 [==============================] - 0s 3ms/step - loss: 0.4345 - accuracy: 0.8108\n",
      "Epoch 29/30\n",
      "21/21 [==============================] - 0s 3ms/step - loss: 0.4250 - accuracy: 0.8093\n",
      "Epoch 30/30\n",
      "21/21 [==============================] - 0s 3ms/step - loss: 0.4407 - accuracy: 0.8123\n"
     ]
    },
    {
     "data": {
      "text/plain": [
       "<keras.callbacks.History at 0x1aba4bbc2b0>"
      ]
     },
     "execution_count": 10,
     "metadata": {},
     "output_type": "execute_result"
    }
   ],
   "source": [
    "# fit model\n",
    "titanicKSC.fit(Xtrain2,ytrain2, epochs = 30)"
   ]
  },
  {
   "cell_type": "code",
   "execution_count": 11,
   "id": "421e9e22",
   "metadata": {},
   "outputs": [
    {
     "name": "stdout",
     "output_type": "stream",
     "text": [
      "7/7 [==============================] - 0s 3ms/step\n",
      "7/7 [==============================] - 0s 3ms/step - loss: 0.4790 - accuracy: 0.8072\n"
     ]
    },
    {
     "data": {
      "text/plain": [
       "[0.47896647453308105, 0.8071748614311218]"
      ]
     },
     "execution_count": 11,
     "metadata": {},
     "output_type": "execute_result"
    }
   ],
   "source": [
    "#evaluate\n",
    "pred2 = titanicKSC.predict(Xtest2)\n",
    "score2 = titanicKSC.evaluate(Xtest2,ytest2)\n",
    "\n",
    "score2"
   ]
  },
  {
   "cell_type": "markdown",
   "id": "62305c8e",
   "metadata": {},
   "source": [
    "## Part 3: Implement a Keras Regressor\n",
    "\n",
    "Given the prepared bike-share dataset from Assignment 4, implement a\n",
    "Keras sequential regressor with relu activation functions."
   ]
  },
  {
   "cell_type": "code",
   "execution_count": 12,
   "id": "bb797ceb",
   "metadata": {},
   "outputs": [],
   "source": [
    "# Assignment 4 used the provided bike stateset\n",
    "bike = pd.read_csv('bike_share_hour.csv')"
   ]
  },
  {
   "cell_type": "code",
   "execution_count": 13,
   "id": "bdb5e80d",
   "metadata": {},
   "outputs": [
    {
     "name": "stdout",
     "output_type": "stream",
     "text": [
      "<class 'pandas.core.frame.DataFrame'>\n",
      "RangeIndex: 17379 entries, 0 to 17378\n",
      "Data columns (total 13 columns):\n",
      " #   Column      Non-Null Count  Dtype   \n",
      "---  ------      --------------  -----   \n",
      " 0   season      17379 non-null  category\n",
      " 1   yr          17379 non-null  category\n",
      " 2   mnth        17379 non-null  category\n",
      " 3   hr          17379 non-null  category\n",
      " 4   holiday     17379 non-null  category\n",
      " 5   weekday     17379 non-null  category\n",
      " 6   workingday  17379 non-null  category\n",
      " 7   weathersit  17379 non-null  category\n",
      " 8   temp        17379 non-null  float64 \n",
      " 9   atemp       17379 non-null  float64 \n",
      " 10  hum         17379 non-null  float64 \n",
      " 11  windspeed   17379 non-null  float64 \n",
      " 12  cnt         17379 non-null  int64   \n",
      "dtypes: category(8), float64(4), int64(1)\n",
      "memory usage: 817.0 KB\n"
     ]
    }
   ],
   "source": [
    "# clean dataset as we did in assignment 4\n",
    "#categorical variables:\n",
    "bike['season'] = bike['season'].astype('category')            \n",
    "bike['yr'] = bike['yr'].astype('category')            \n",
    "bike['holiday'] = bike['holiday'].astype('category')\n",
    "bike['workingday'] = bike['workingday'].astype('category')            \n",
    "bike['weathersit'] = bike['weathersit'].astype('category')            \n",
    "bike['mnth'] = bike['mnth'].astype('category')            \n",
    "bike['hr'] = bike['hr'].astype('category')            \n",
    "bike['weekday'] = bike['weekday'].astype('category')            \n",
    "\n",
    "# scale numerical features\n",
    "num_features = ['temp', 'atemp', 'hum', 'windspeed']\n",
    "scaler = StandardScaler()\n",
    "scaler.fit(bike[num_features])\n",
    "bike[num_features] = scaler.transform(bike[num_features])\n",
    "\n",
    "# drop columns\n",
    "bike = bike.drop(['casual', 'registered', 'dteday', 'instant'], axis = 1)\n",
    "bike.info()"
   ]
  },
  {
   "cell_type": "code",
   "execution_count": 14,
   "id": "d1fe126a",
   "metadata": {},
   "outputs": [
    {
     "data": {
      "text/plain": [
       "(11643, 12)"
      ]
     },
     "execution_count": 14,
     "metadata": {},
     "output_type": "execute_result"
    }
   ],
   "source": [
    "# train-test split\n",
    "feature3 = bike.drop('cnt', axis = 1)\n",
    "target3 = bike['cnt'].copy()\n",
    "Xtrain3, Xtest3, ytrain3, ytest3 = train_test_split(feature3, target3, test_size = 0.33, random_state = 8)\n",
    "Xtrain3.shape"
   ]
  },
  {
   "cell_type": "code",
   "execution_count": 15,
   "id": "4cac9683",
   "metadata": {},
   "outputs": [],
   "source": [
    "# build sequential regressor model\n",
    "def buildModel():\n",
    "    bikeKSR = Sequential()\n",
    "    bikeKSR.add(Dense(300, input_dim=12, activation='relu'))\n",
    "    bikeKSR.add(Dense(100, activation='relu'))\n",
    "    bikeKSR.add(Dense(30, activation='relu'))\n",
    "    bikeKSR.add(Dense(1)) \n",
    "    bikeKSR.compile(loss='mean_squared_error', optimizer='adam')\n",
    "    return bikeKSR\n",
    "\n",
    "bikeKSR = KerasRegressor(build_fn=buildModel)"
   ]
  },
  {
   "cell_type": "code",
   "execution_count": 16,
   "id": "5645fa23",
   "metadata": {},
   "outputs": [
    {
     "name": "stdout",
     "output_type": "stream",
     "text": [
      "Epoch 1/30\n"
     ]
    },
    {
     "name": "stderr",
     "output_type": "stream",
     "text": [
      "C:\\Users\\mmall\\AppData\\Local\\Programs\\Python\\Python310\\lib\\site-packages\\scikeras\\wrappers.py:301: UserWarning: ``build_fn`` will be renamed to ``model`` in a future release, at which point use of ``build_fn`` will raise an Error instead.\n",
      "  warnings.warn(\n"
     ]
    },
    {
     "name": "stdout",
     "output_type": "stream",
     "text": [
      "364/364 [==============================] - 2s 3ms/step - loss: 24715.9414\n",
      "Epoch 2/30\n",
      "364/364 [==============================] - 1s 3ms/step - loss: 16431.7891\n",
      "Epoch 3/30\n",
      "364/364 [==============================] - 1s 3ms/step - loss: 14318.5527\n",
      "Epoch 4/30\n",
      "364/364 [==============================] - 1s 3ms/step - loss: 13412.9580\n",
      "Epoch 5/30\n",
      "364/364 [==============================] - 1s 3ms/step - loss: 12682.1221\n",
      "Epoch 6/30\n",
      "364/364 [==============================] - 1s 3ms/step - loss: 12120.2686\n",
      "Epoch 7/30\n",
      "364/364 [==============================] - 1s 3ms/step - loss: 11535.0215\n",
      "Epoch 8/30\n",
      "364/364 [==============================] - 1s 3ms/step - loss: 10942.5547\n",
      "Epoch 9/30\n",
      "364/364 [==============================] - 1s 3ms/step - loss: 10389.8545\n",
      "Epoch 10/30\n",
      "364/364 [==============================] - 1s 3ms/step - loss: 9667.9238\n",
      "Epoch 11/30\n",
      "364/364 [==============================] - 1s 3ms/step - loss: 9198.8145\n",
      "Epoch 12/30\n",
      "364/364 [==============================] - 1s 3ms/step - loss: 8634.9580\n",
      "Epoch 13/30\n",
      "364/364 [==============================] - 1s 3ms/step - loss: 8075.1382\n",
      "Epoch 14/30\n",
      "364/364 [==============================] - 1s 3ms/step - loss: 7573.9907\n",
      "Epoch 15/30\n",
      "364/364 [==============================] - 1s 3ms/step - loss: 7324.3320\n",
      "Epoch 16/30\n",
      "364/364 [==============================] - 1s 3ms/step - loss: 6798.0591\n",
      "Epoch 17/30\n",
      "364/364 [==============================] - 1s 3ms/step - loss: 6178.6929\n",
      "Epoch 18/30\n",
      "364/364 [==============================] - 1s 3ms/step - loss: 5937.9771\n",
      "Epoch 19/30\n",
      "364/364 [==============================] - 1s 3ms/step - loss: 5556.3232\n",
      "Epoch 20/30\n",
      "364/364 [==============================] - 3s 9ms/step - loss: 5211.3398\n",
      "Epoch 21/30\n",
      "364/364 [==============================] - 4s 11ms/step - loss: 4853.6616\n",
      "Epoch 22/30\n",
      "364/364 [==============================] - 1s 3ms/step - loss: 4615.5659\n",
      "Epoch 23/30\n",
      "364/364 [==============================] - 1s 3ms/step - loss: 4335.6284\n",
      "Epoch 24/30\n",
      "364/364 [==============================] - 1s 3ms/step - loss: 4179.8228\n",
      "Epoch 25/30\n",
      "364/364 [==============================] - 1s 3ms/step - loss: 3936.7764\n",
      "Epoch 26/30\n",
      "364/364 [==============================] - 1s 3ms/step - loss: 3720.0305\n",
      "Epoch 27/30\n",
      "364/364 [==============================] - 1s 3ms/step - loss: 3469.5535\n",
      "Epoch 28/30\n",
      "364/364 [==============================] - 1s 3ms/step - loss: 3283.9888\n",
      "Epoch 29/30\n",
      "364/364 [==============================] - 1s 4ms/step - loss: 3252.1763\n",
      "Epoch 30/30\n",
      "364/364 [==============================] - 1s 3ms/step - loss: 3003.5908\n"
     ]
    },
    {
     "data": {
      "text/html": [
       "<style>#sk-container-id-1 {color: black;background-color: white;}#sk-container-id-1 pre{padding: 0;}#sk-container-id-1 div.sk-toggleable {background-color: white;}#sk-container-id-1 label.sk-toggleable__label {cursor: pointer;display: block;width: 100%;margin-bottom: 0;padding: 0.3em;box-sizing: border-box;text-align: center;}#sk-container-id-1 label.sk-toggleable__label-arrow:before {content: \"▸\";float: left;margin-right: 0.25em;color: #696969;}#sk-container-id-1 label.sk-toggleable__label-arrow:hover:before {color: black;}#sk-container-id-1 div.sk-estimator:hover label.sk-toggleable__label-arrow:before {color: black;}#sk-container-id-1 div.sk-toggleable__content {max-height: 0;max-width: 0;overflow: hidden;text-align: left;background-color: #f0f8ff;}#sk-container-id-1 div.sk-toggleable__content pre {margin: 0.2em;color: black;border-radius: 0.25em;background-color: #f0f8ff;}#sk-container-id-1 input.sk-toggleable__control:checked~div.sk-toggleable__content {max-height: 200px;max-width: 100%;overflow: auto;}#sk-container-id-1 input.sk-toggleable__control:checked~label.sk-toggleable__label-arrow:before {content: \"▾\";}#sk-container-id-1 div.sk-estimator input.sk-toggleable__control:checked~label.sk-toggleable__label {background-color: #d4ebff;}#sk-container-id-1 div.sk-label input.sk-toggleable__control:checked~label.sk-toggleable__label {background-color: #d4ebff;}#sk-container-id-1 input.sk-hidden--visually {border: 0;clip: rect(1px 1px 1px 1px);clip: rect(1px, 1px, 1px, 1px);height: 1px;margin: -1px;overflow: hidden;padding: 0;position: absolute;width: 1px;}#sk-container-id-1 div.sk-estimator {font-family: monospace;background-color: #f0f8ff;border: 1px dotted black;border-radius: 0.25em;box-sizing: border-box;margin-bottom: 0.5em;}#sk-container-id-1 div.sk-estimator:hover {background-color: #d4ebff;}#sk-container-id-1 div.sk-parallel-item::after {content: \"\";width: 100%;border-bottom: 1px solid gray;flex-grow: 1;}#sk-container-id-1 div.sk-label:hover label.sk-toggleable__label {background-color: #d4ebff;}#sk-container-id-1 div.sk-serial::before {content: \"\";position: absolute;border-left: 1px solid gray;box-sizing: border-box;top: 0;bottom: 0;left: 50%;z-index: 0;}#sk-container-id-1 div.sk-serial {display: flex;flex-direction: column;align-items: center;background-color: white;padding-right: 0.2em;padding-left: 0.2em;position: relative;}#sk-container-id-1 div.sk-item {position: relative;z-index: 1;}#sk-container-id-1 div.sk-parallel {display: flex;align-items: stretch;justify-content: center;background-color: white;position: relative;}#sk-container-id-1 div.sk-item::before, #sk-container-id-1 div.sk-parallel-item::before {content: \"\";position: absolute;border-left: 1px solid gray;box-sizing: border-box;top: 0;bottom: 0;left: 50%;z-index: -1;}#sk-container-id-1 div.sk-parallel-item {display: flex;flex-direction: column;z-index: 1;position: relative;background-color: white;}#sk-container-id-1 div.sk-parallel-item:first-child::after {align-self: flex-end;width: 50%;}#sk-container-id-1 div.sk-parallel-item:last-child::after {align-self: flex-start;width: 50%;}#sk-container-id-1 div.sk-parallel-item:only-child::after {width: 0;}#sk-container-id-1 div.sk-dashed-wrapped {border: 1px dashed gray;margin: 0 0.4em 0.5em 0.4em;box-sizing: border-box;padding-bottom: 0.4em;background-color: white;}#sk-container-id-1 div.sk-label label {font-family: monospace;font-weight: bold;display: inline-block;line-height: 1.2em;}#sk-container-id-1 div.sk-label-container {text-align: center;}#sk-container-id-1 div.sk-container {/* jupyter's `normalize.less` sets `[hidden] { display: none; }` but bootstrap.min.css set `[hidden] { display: none !important; }` so we also need the `!important` here to be able to override the default hidden behavior on the sphinx rendered scikit-learn.org. See: https://github.com/scikit-learn/scikit-learn/issues/21755 */display: inline-block !important;position: relative;}#sk-container-id-1 div.sk-text-repr-fallback {display: none;}</style><div id=\"sk-container-id-1\" class=\"sk-top-container\"><div class=\"sk-text-repr-fallback\"><pre>KerasRegressor(\n",
       "\tmodel=None\n",
       "\tbuild_fn=&lt;function buildModel at 0x000001ABA2941090&gt;\n",
       "\twarm_start=False\n",
       "\trandom_state=None\n",
       "\toptimizer=rmsprop\n",
       "\tloss=None\n",
       "\tmetrics=None\n",
       "\tbatch_size=None\n",
       "\tvalidation_batch_size=None\n",
       "\tverbose=1\n",
       "\tcallbacks=None\n",
       "\tvalidation_split=0.0\n",
       "\tshuffle=True\n",
       "\trun_eagerly=False\n",
       "\tepochs=1\n",
       ")</pre><b>In a Jupyter environment, please rerun this cell to show the HTML representation or trust the notebook. <br />On GitHub, the HTML representation is unable to render, please try loading this page with nbviewer.org.</b></div><div class=\"sk-container\" hidden><div class=\"sk-item\"><div class=\"sk-estimator sk-toggleable\"><input class=\"sk-toggleable__control sk-hidden--visually\" id=\"sk-estimator-id-1\" type=\"checkbox\" checked><label for=\"sk-estimator-id-1\" class=\"sk-toggleable__label sk-toggleable__label-arrow\">KerasRegressor</label><div class=\"sk-toggleable__content\"><pre>KerasRegressor(\n",
       "\tmodel=None\n",
       "\tbuild_fn=&lt;function buildModel at 0x000001ABA2941090&gt;\n",
       "\twarm_start=False\n",
       "\trandom_state=None\n",
       "\toptimizer=rmsprop\n",
       "\tloss=None\n",
       "\tmetrics=None\n",
       "\tbatch_size=None\n",
       "\tvalidation_batch_size=None\n",
       "\tverbose=1\n",
       "\tcallbacks=None\n",
       "\tvalidation_split=0.0\n",
       "\tshuffle=True\n",
       "\trun_eagerly=False\n",
       "\tepochs=1\n",
       ")</pre></div></div></div></div></div>"
      ],
      "text/plain": [
       "KerasRegressor(\n",
       "\tmodel=None\n",
       "\tbuild_fn=<function buildModel at 0x000001ABA2941090>\n",
       "\twarm_start=False\n",
       "\trandom_state=None\n",
       "\toptimizer=rmsprop\n",
       "\tloss=None\n",
       "\tmetrics=None\n",
       "\tbatch_size=None\n",
       "\tvalidation_batch_size=None\n",
       "\tverbose=1\n",
       "\tcallbacks=None\n",
       "\tvalidation_split=0.0\n",
       "\tshuffle=True\n",
       "\trun_eagerly=False\n",
       "\tepochs=1\n",
       ")"
      ]
     },
     "execution_count": 16,
     "metadata": {},
     "output_type": "execute_result"
    }
   ],
   "source": [
    "#fit\n",
    "bikeKSR.fit(Xtrain3, ytrain3, epochs=30)"
   ]
  },
  {
   "cell_type": "code",
   "execution_count": 17,
   "id": "2dbf3de7",
   "metadata": {},
   "outputs": [
    {
     "name": "stdout",
     "output_type": "stream",
     "text": [
      "180/180 [==============================] - 1s 2ms/step\n"
     ]
    },
    {
     "data": {
      "text/plain": [
       "57.60470080600907"
      ]
     },
     "execution_count": 17,
     "metadata": {},
     "output_type": "execute_result"
    }
   ],
   "source": [
    "#evaluate\n",
    "pred3 = bikeKSR.predict(Xtest3)\n",
    "np.sqrt(mean_squared_error(ytest3,pred3))"
   ]
  },
  {
   "cell_type": "markdown",
   "id": "c6e05d85",
   "metadata": {},
   "source": [
    "## Part 4: Tune Your Keras Regressor\n",
    "\n",
    "Tune your Keras regressor from Part 3 by implementing a grid search with\n",
    "different optimizers."
   ]
  },
  {
   "cell_type": "code",
   "execution_count": 18,
   "id": "5d6813d5",
   "metadata": {},
   "outputs": [],
   "source": [
    "# set up search\n",
    "params = {'optimizer':['adam','sgd', 'nadam', 'adamax', 'adagrad', 'adadelta', 'ftrl', 'rmsprop']}\n",
    "gridsearch = GridSearchCV(bikeKSR, param_grid=params, n_jobs=-1, cv=3, scoring='neg_mean_squared_error')"
   ]
  },
  {
   "cell_type": "code",
   "execution_count": 19,
   "id": "de362a2c",
   "metadata": {},
   "outputs": [
    {
     "name": "stdout",
     "output_type": "stream",
     "text": [
      "Epoch 1/30\n"
     ]
    },
    {
     "name": "stderr",
     "output_type": "stream",
     "text": [
      "C:\\Users\\mmall\\AppData\\Local\\Programs\\Python\\Python310\\lib\\site-packages\\scikeras\\wrappers.py:301: UserWarning: ``build_fn`` will be renamed to ``model`` in a future release, at which point use of ``build_fn`` will raise an Error instead.\n",
      "  warnings.warn(\n"
     ]
    },
    {
     "name": "stdout",
     "output_type": "stream",
     "text": [
      "364/364 [==============================] - 2s 3ms/step - loss: 24706.0527\n",
      "Epoch 2/30\n",
      "364/364 [==============================] - 1s 3ms/step - loss: 15989.8887\n",
      "Epoch 3/30\n",
      "364/364 [==============================] - 1s 3ms/step - loss: 14214.5059\n",
      "Epoch 4/30\n",
      "364/364 [==============================] - 1s 3ms/step - loss: 13174.3623\n",
      "Epoch 5/30\n",
      "364/364 [==============================] - 1s 3ms/step - loss: 12509.6650\n",
      "Epoch 6/30\n",
      "364/364 [==============================] - 1s 3ms/step - loss: 12199.6885\n",
      "Epoch 7/30\n",
      "364/364 [==============================] - 1s 3ms/step - loss: 11615.9600\n",
      "Epoch 8/30\n",
      "364/364 [==============================] - 1s 3ms/step - loss: 11281.6797\n",
      "Epoch 9/30\n",
      "364/364 [==============================] - 1s 3ms/step - loss: 10560.5381\n",
      "Epoch 10/30\n",
      "364/364 [==============================] - 1s 3ms/step - loss: 9915.0664\n",
      "Epoch 11/30\n",
      "364/364 [==============================] - 1s 3ms/step - loss: 9523.0889\n",
      "Epoch 12/30\n",
      "364/364 [==============================] - 1s 3ms/step - loss: 8846.6992\n",
      "Epoch 13/30\n",
      "364/364 [==============================] - 1s 3ms/step - loss: 8125.1201\n",
      "Epoch 14/30\n",
      "364/364 [==============================] - 1s 3ms/step - loss: 7424.7983\n",
      "Epoch 15/30\n",
      "364/364 [==============================] - 1s 3ms/step - loss: 6793.3267\n",
      "Epoch 16/30\n",
      "364/364 [==============================] - 1s 3ms/step - loss: 6202.1064\n",
      "Epoch 17/30\n",
      "364/364 [==============================] - 1s 3ms/step - loss: 5617.8125\n",
      "Epoch 18/30\n",
      "364/364 [==============================] - 1s 3ms/step - loss: 5057.5718\n",
      "Epoch 19/30\n",
      "364/364 [==============================] - 1s 3ms/step - loss: 4761.8760\n",
      "Epoch 20/30\n",
      "364/364 [==============================] - 1s 3ms/step - loss: 4471.5527\n",
      "Epoch 21/30\n",
      "364/364 [==============================] - 6s 16ms/step - loss: 4276.9824\n",
      "Epoch 22/30\n",
      "364/364 [==============================] - 1s 3ms/step - loss: 3830.9536\n",
      "Epoch 23/30\n",
      "364/364 [==============================] - 1s 3ms/step - loss: 3606.0647\n",
      "Epoch 24/30\n",
      "364/364 [==============================] - 1s 3ms/step - loss: 3533.0918\n",
      "Epoch 25/30\n",
      "364/364 [==============================] - 1s 3ms/step - loss: 3330.1184\n",
      "Epoch 26/30\n",
      "364/364 [==============================] - 1s 3ms/step - loss: 3163.1174\n",
      "Epoch 27/30\n",
      "364/364 [==============================] - 1s 3ms/step - loss: 3116.0930\n",
      "Epoch 28/30\n",
      "364/364 [==============================] - 1s 3ms/step - loss: 2838.9141\n",
      "Epoch 29/30\n",
      "364/364 [==============================] - 1s 3ms/step - loss: 2914.3286\n",
      "Epoch 30/30\n",
      "364/364 [==============================] - 3s 7ms/step - loss: 2775.9482\n"
     ]
    },
    {
     "data": {
      "text/html": [
       "<style>#sk-container-id-2 {color: black;background-color: white;}#sk-container-id-2 pre{padding: 0;}#sk-container-id-2 div.sk-toggleable {background-color: white;}#sk-container-id-2 label.sk-toggleable__label {cursor: pointer;display: block;width: 100%;margin-bottom: 0;padding: 0.3em;box-sizing: border-box;text-align: center;}#sk-container-id-2 label.sk-toggleable__label-arrow:before {content: \"▸\";float: left;margin-right: 0.25em;color: #696969;}#sk-container-id-2 label.sk-toggleable__label-arrow:hover:before {color: black;}#sk-container-id-2 div.sk-estimator:hover label.sk-toggleable__label-arrow:before {color: black;}#sk-container-id-2 div.sk-toggleable__content {max-height: 0;max-width: 0;overflow: hidden;text-align: left;background-color: #f0f8ff;}#sk-container-id-2 div.sk-toggleable__content pre {margin: 0.2em;color: black;border-radius: 0.25em;background-color: #f0f8ff;}#sk-container-id-2 input.sk-toggleable__control:checked~div.sk-toggleable__content {max-height: 200px;max-width: 100%;overflow: auto;}#sk-container-id-2 input.sk-toggleable__control:checked~label.sk-toggleable__label-arrow:before {content: \"▾\";}#sk-container-id-2 div.sk-estimator input.sk-toggleable__control:checked~label.sk-toggleable__label {background-color: #d4ebff;}#sk-container-id-2 div.sk-label input.sk-toggleable__control:checked~label.sk-toggleable__label {background-color: #d4ebff;}#sk-container-id-2 input.sk-hidden--visually {border: 0;clip: rect(1px 1px 1px 1px);clip: rect(1px, 1px, 1px, 1px);height: 1px;margin: -1px;overflow: hidden;padding: 0;position: absolute;width: 1px;}#sk-container-id-2 div.sk-estimator {font-family: monospace;background-color: #f0f8ff;border: 1px dotted black;border-radius: 0.25em;box-sizing: border-box;margin-bottom: 0.5em;}#sk-container-id-2 div.sk-estimator:hover {background-color: #d4ebff;}#sk-container-id-2 div.sk-parallel-item::after {content: \"\";width: 100%;border-bottom: 1px solid gray;flex-grow: 1;}#sk-container-id-2 div.sk-label:hover label.sk-toggleable__label {background-color: #d4ebff;}#sk-container-id-2 div.sk-serial::before {content: \"\";position: absolute;border-left: 1px solid gray;box-sizing: border-box;top: 0;bottom: 0;left: 50%;z-index: 0;}#sk-container-id-2 div.sk-serial {display: flex;flex-direction: column;align-items: center;background-color: white;padding-right: 0.2em;padding-left: 0.2em;position: relative;}#sk-container-id-2 div.sk-item {position: relative;z-index: 1;}#sk-container-id-2 div.sk-parallel {display: flex;align-items: stretch;justify-content: center;background-color: white;position: relative;}#sk-container-id-2 div.sk-item::before, #sk-container-id-2 div.sk-parallel-item::before {content: \"\";position: absolute;border-left: 1px solid gray;box-sizing: border-box;top: 0;bottom: 0;left: 50%;z-index: -1;}#sk-container-id-2 div.sk-parallel-item {display: flex;flex-direction: column;z-index: 1;position: relative;background-color: white;}#sk-container-id-2 div.sk-parallel-item:first-child::after {align-self: flex-end;width: 50%;}#sk-container-id-2 div.sk-parallel-item:last-child::after {align-self: flex-start;width: 50%;}#sk-container-id-2 div.sk-parallel-item:only-child::after {width: 0;}#sk-container-id-2 div.sk-dashed-wrapped {border: 1px dashed gray;margin: 0 0.4em 0.5em 0.4em;box-sizing: border-box;padding-bottom: 0.4em;background-color: white;}#sk-container-id-2 div.sk-label label {font-family: monospace;font-weight: bold;display: inline-block;line-height: 1.2em;}#sk-container-id-2 div.sk-label-container {text-align: center;}#sk-container-id-2 div.sk-container {/* jupyter's `normalize.less` sets `[hidden] { display: none; }` but bootstrap.min.css set `[hidden] { display: none !important; }` so we also need the `!important` here to be able to override the default hidden behavior on the sphinx rendered scikit-learn.org. See: https://github.com/scikit-learn/scikit-learn/issues/21755 */display: inline-block !important;position: relative;}#sk-container-id-2 div.sk-text-repr-fallback {display: none;}</style><div id=\"sk-container-id-2\" class=\"sk-top-container\"><div class=\"sk-text-repr-fallback\"><pre>KerasRegressor(\n",
       "\tmodel=None\n",
       "\tbuild_fn=&lt;function buildModel at 0x000001ABA2941090&gt;\n",
       "\twarm_start=False\n",
       "\trandom_state=None\n",
       "\toptimizer=adagrad\n",
       "\tloss=None\n",
       "\tmetrics=None\n",
       "\tbatch_size=None\n",
       "\tvalidation_batch_size=None\n",
       "\tverbose=1\n",
       "\tcallbacks=None\n",
       "\tvalidation_split=0.0\n",
       "\tshuffle=True\n",
       "\trun_eagerly=False\n",
       "\tepochs=1\n",
       ")</pre><b>In a Jupyter environment, please rerun this cell to show the HTML representation or trust the notebook. <br />On GitHub, the HTML representation is unable to render, please try loading this page with nbviewer.org.</b></div><div class=\"sk-container\" hidden><div class=\"sk-item\"><div class=\"sk-estimator sk-toggleable\"><input class=\"sk-toggleable__control sk-hidden--visually\" id=\"sk-estimator-id-2\" type=\"checkbox\" checked><label for=\"sk-estimator-id-2\" class=\"sk-toggleable__label sk-toggleable__label-arrow\">KerasRegressor</label><div class=\"sk-toggleable__content\"><pre>KerasRegressor(\n",
       "\tmodel=None\n",
       "\tbuild_fn=&lt;function buildModel at 0x000001ABA2941090&gt;\n",
       "\twarm_start=False\n",
       "\trandom_state=None\n",
       "\toptimizer=adagrad\n",
       "\tloss=None\n",
       "\tmetrics=None\n",
       "\tbatch_size=None\n",
       "\tvalidation_batch_size=None\n",
       "\tverbose=1\n",
       "\tcallbacks=None\n",
       "\tvalidation_split=0.0\n",
       "\tshuffle=True\n",
       "\trun_eagerly=False\n",
       "\tepochs=1\n",
       ")</pre></div></div></div></div></div>"
      ],
      "text/plain": [
       "KerasRegressor(\n",
       "\tmodel=None\n",
       "\tbuild_fn=<function buildModel at 0x000001ABA2941090>\n",
       "\twarm_start=False\n",
       "\trandom_state=None\n",
       "\toptimizer=adagrad\n",
       "\tloss=None\n",
       "\tmetrics=None\n",
       "\tbatch_size=None\n",
       "\tvalidation_batch_size=None\n",
       "\tverbose=1\n",
       "\tcallbacks=None\n",
       "\tvalidation_split=0.0\n",
       "\tshuffle=True\n",
       "\trun_eagerly=False\n",
       "\tepochs=1\n",
       ")"
      ]
     },
     "execution_count": 19,
     "metadata": {},
     "output_type": "execute_result"
    }
   ],
   "source": [
    "#fit\n",
    "results = gridsearch.fit(Xtrain3,ytrain3, epochs=30)\n",
    "results.best_estimator_"
   ]
  },
  {
   "cell_type": "code",
   "execution_count": 20,
   "id": "31155b4f",
   "metadata": {},
   "outputs": [
    {
     "name": "stdout",
     "output_type": "stream",
     "text": [
      "180/180 [==============================] - 0s 2ms/step\n"
     ]
    },
    {
     "data": {
      "text/plain": [
       "59.85204368397318"
      ]
     },
     "execution_count": 20,
     "metadata": {},
     "output_type": "execute_result"
    }
   ],
   "source": [
    "#evaluate\n",
    "pred4 = results.predict(Xtest3)\n",
    "np.sqrt(mean_squared_error(ytest3,pred4))"
   ]
  }
 ],
 "metadata": {
  "kernelspec": {
   "display_name": "Python 3 (ipykernel)",
   "language": "python",
   "name": "python3"
  },
  "language_info": {
   "codemirror_mode": {
    "name": "ipython",
    "version": 3
   },
   "file_extension": ".py",
   "mimetype": "text/x-python",
   "name": "python",
   "nbconvert_exporter": "python",
   "pygments_lexer": "ipython3",
   "version": "3.10.0"
  }
 },
 "nbformat": 4,
 "nbformat_minor": 5
}
